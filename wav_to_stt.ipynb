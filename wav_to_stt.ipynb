{
 "cells": [
  {
   "cell_type": "code",
   "execution_count": 1,
   "id": "f78937aa",
   "metadata": {},
   "outputs": [],
   "source": [
    "import whisper\n",
    "path = \"voice recordings wavs/card without permission.wav\"\n",
    "whisper_model = whisper.load_model(\"medium\")"
   ]
  },
  {
   "cell_type": "code",
   "execution_count": 2,
   "id": "58f156e7",
   "metadata": {},
   "outputs": [
    {
     "name": "stdout",
     "output_type": "stream",
     "text": [
      " Hello, for some reason I want to change my debit card pin. Can you help me with it?\n"
     ]
    }
   ],
   "source": [
    "print(whisper_model.transcribe('voice recordings data/debit card pin.m4a')['text'])"
   ]
  },
  {
   "cell_type": "code",
   "execution_count": 10,
   "id": "fb42b2a6",
   "metadata": {},
   "outputs": [],
   "source": [
    "import os\n",
    "from dotenv import load_dotenv\n",
    "load_dotenv()\n",
    "import boto3\n",
    "transcribe = boto3.client(\n",
    "    'transcribe',\n",
    "    region_name='us-east-1',\n",
    "    aws_access_key_id= os.getenv(\"AWS_ACCESS_KEY\"),\n",
    "    aws_secret_access_key= os.getenv('AWS_SECRET_KEY'),\n",
    ")"
   ]
  },
  {
   "cell_type": "code",
   "execution_count": 11,
   "id": "ac59c8f4",
   "metadata": {},
   "outputs": [
    {
     "data": {
      "text/plain": [
       "{'TranscriptionJob': {'TranscriptionJobName': 'file_transcribing_of_wavs',\n",
       "  'TranscriptionJobStatus': 'IN_PROGRESS',\n",
       "  'LanguageCode': 'en-US',\n",
       "  'MediaFormat': 'wav',\n",
       "  'Media': {'MediaFileUri': 's3://filebasedtranscriptingbucket/voice recordings wavs/card without permission.wav'},\n",
       "  'StartTime': datetime.datetime(2025, 6, 8, 16, 1, 38, 131000, tzinfo=tzlocal()),\n",
       "  'CreationTime': datetime.datetime(2025, 6, 8, 16, 1, 38, 101000, tzinfo=tzlocal())},\n",
       " 'ResponseMetadata': {'RequestId': '8300a989-7650-4b9a-8cc0-7aed58f0f887',\n",
       "  'HTTPStatusCode': 200,\n",
       "  'HTTPHeaders': {'x-amzn-requestid': '8300a989-7650-4b9a-8cc0-7aed58f0f887',\n",
       "   'content-type': 'application/x-amz-json-1.1',\n",
       "   'content-length': '327',\n",
       "   'date': 'Sun, 08 Jun 2025 10:31:38 GMT'},\n",
       "  'RetryAttempts': 0}}"
      ]
     },
     "execution_count": 11,
     "metadata": {},
     "output_type": "execute_result"
    }
   ],
   "source": [
    "job_name = \"file_transcribing_of_wavs\"\n",
    "media_uri = \"s3://filebasedtranscriptingbucket/voice recordings wavs/card without permission.wav\"\n",
    "\n",
    "transcribe.start_transcription_job(\n",
    "    TranscriptionJobName=job_name,\n",
    "    Media={'MediaFileUri': media_uri},\n",
    "    MediaFormat='wav',  # or 'wav', 'mp4', 'flac'\n",
    "    LanguageCode='en-US'  # or your target language code\n",
    ")"
   ]
  },
  {
   "cell_type": "code",
   "execution_count": 13,
   "id": "806ed451",
   "metadata": {},
   "outputs": [],
   "source": [
    "import time\n",
    "\n",
    "while True:\n",
    "    status = transcribe.get_transcription_job(TranscriptionJobName = job_name)\n",
    "    if status['TranscriptionJob']['TranscriptionJobStatus'] in ['COMPLETED','FAILED']:\n",
    "        break\n",
    "    print(\"Not Ready yet...\")\n",
    "    time.sleep(10)"
   ]
  },
  {
   "cell_type": "code",
   "execution_count": 14,
   "id": "926c5d4d",
   "metadata": {},
   "outputs": [],
   "source": [
    "transcript_uri = status['TranscriptionJob']['Transcript']['TranscriptFileUri']"
   ]
  },
  {
   "cell_type": "code",
   "execution_count": 15,
   "id": "ff44010d",
   "metadata": {},
   "outputs": [
    {
     "name": "stdout",
     "output_type": "stream",
     "text": [
      "Hey, I think someone used my card without my permission. Will you help me? What to do?\n"
     ]
    }
   ],
   "source": [
    "import requests\n",
    "\n",
    "response = requests.get(transcript_uri)\n",
    "transcript_json = response.json()\n",
    "print(transcript_json['results']['transcripts'][0]['transcript'])\n"
   ]
  },
  {
   "cell_type": "code",
   "execution_count": null,
   "id": "fbec4457",
   "metadata": {},
   "outputs": [],
   "source": []
  }
 ],
 "metadata": {
  "kernelspec": {
   "display_name": "Python 3",
   "language": "python",
   "name": "python3"
  },
  "language_info": {
   "codemirror_mode": {
    "name": "ipython",
    "version": 3
   },
   "file_extension": ".py",
   "mimetype": "text/x-python",
   "name": "python",
   "nbconvert_exporter": "python",
   "pygments_lexer": "ipython3",
   "version": "3.12.0"
  }
 },
 "nbformat": 4,
 "nbformat_minor": 5
}
